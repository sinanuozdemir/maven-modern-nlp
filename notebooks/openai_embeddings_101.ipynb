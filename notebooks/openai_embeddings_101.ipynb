{
 "cells": [
  {
   "cell_type": "code",
   "execution_count": 32,
   "id": "eaaccb4d",
   "metadata": {},
   "outputs": [],
   "source": [
    "import os\n",
    "import openai\n",
    "\n",
    "import numpy as np\n",
    "from urllib.request import urlopen\n",
    "\n",
    "from openai.embeddings_utils import get_embedding\n",
    "from sentence_transformers import util\n",
    "\n"
   ]
  },
  {
   "cell_type": "code",
   "execution_count": 26,
   "id": "338de565",
   "metadata": {},
   "outputs": [],
   "source": [
    "openai.api_key = os.environ['OPENAI_API_KEY']"
   ]
  },
  {
   "cell_type": "code",
   "execution_count": 27,
   "id": "694bb77f",
   "metadata": {
    "scrolled": true
   },
   "outputs": [
    {
     "data": {
      "text/plain": [
       "[<Engine engine id=text-embedding-ada-002 at 0x106cb8400> JSON: {\n",
       "   \"created\": null,\n",
       "   \"id\": \"text-embedding-ada-002\",\n",
       "   \"object\": \"engine\",\n",
       "   \"owner\": \"openai-internal\",\n",
       "   \"permissions\": null,\n",
       "   \"ready\": true\n",
       " },\n",
       " <Engine engine id=babbage-code-search-code at 0x106dacfe0> JSON: {\n",
       "   \"created\": null,\n",
       "   \"id\": \"babbage-code-search-code\",\n",
       "   \"object\": \"engine\",\n",
       "   \"owner\": \"openai-dev\",\n",
       "   \"permissions\": null,\n",
       "   \"ready\": true\n",
       " },\n",
       " <Engine engine id=babbage-code-search-text at 0x15fa2cef0> JSON: {\n",
       "   \"created\": null,\n",
       "   \"id\": \"babbage-code-search-text\",\n",
       "   \"object\": \"engine\",\n",
       "   \"owner\": \"openai-dev\",\n",
       "   \"permissions\": null,\n",
       "   \"ready\": true\n",
       " },\n",
       " <Engine engine id=curie-search-query at 0x15fa2d030> JSON: {\n",
       "   \"created\": null,\n",
       "   \"id\": \"curie-search-query\",\n",
       "   \"object\": \"engine\",\n",
       "   \"owner\": \"openai-dev\",\n",
       "   \"permissions\": null,\n",
       "   \"ready\": true\n",
       " },\n",
       " <Engine engine id=code-search-babbage-text-001 at 0x15fa2d0d0> JSON: {\n",
       "   \"created\": null,\n",
       "   \"id\": \"code-search-babbage-text-001\",\n",
       "   \"object\": \"engine\",\n",
       "   \"owner\": \"openai-dev\",\n",
       "   \"permissions\": null,\n",
       "   \"ready\": true\n",
       " },\n",
       " <Engine engine id=code-search-babbage-code-001 at 0x15fa2d350> JSON: {\n",
       "   \"created\": null,\n",
       "   \"id\": \"code-search-babbage-code-001\",\n",
       "   \"object\": \"engine\",\n",
       "   \"owner\": \"openai-dev\",\n",
       "   \"permissions\": null,\n",
       "   \"ready\": true\n",
       " },\n",
       " <Engine engine id=ada-code-search-code at 0x15fa2d670> JSON: {\n",
       "   \"created\": null,\n",
       "   \"id\": \"ada-code-search-code\",\n",
       "   \"object\": \"engine\",\n",
       "   \"owner\": \"openai-dev\",\n",
       "   \"permissions\": null,\n",
       "   \"ready\": true\n",
       " },\n",
       " <Engine engine id=code-search-ada-text-001 at 0x15fa2d7b0> JSON: {\n",
       "   \"created\": null,\n",
       "   \"id\": \"code-search-ada-text-001\",\n",
       "   \"object\": \"engine\",\n",
       "   \"owner\": \"openai-dev\",\n",
       "   \"permissions\": null,\n",
       "   \"ready\": true\n",
       " },\n",
       " <Engine engine id=text-search-ada-query-001 at 0x15fa2d850> JSON: {\n",
       "   \"created\": null,\n",
       "   \"id\": \"text-search-ada-query-001\",\n",
       "   \"object\": \"engine\",\n",
       "   \"owner\": \"openai-dev\",\n",
       "   \"permissions\": null,\n",
       "   \"ready\": true\n",
       " },\n",
       " <Engine engine id=davinci-search-document at 0x15fa2da30> JSON: {\n",
       "   \"created\": null,\n",
       "   \"id\": \"davinci-search-document\",\n",
       "   \"object\": \"engine\",\n",
       "   \"owner\": \"openai-dev\",\n",
       "   \"permissions\": null,\n",
       "   \"ready\": true\n",
       " },\n",
       " <Engine engine id=ada-code-search-text at 0x15fa2dad0> JSON: {\n",
       "   \"created\": null,\n",
       "   \"id\": \"ada-code-search-text\",\n",
       "   \"object\": \"engine\",\n",
       "   \"owner\": \"openai-dev\",\n",
       "   \"permissions\": null,\n",
       "   \"ready\": true\n",
       " },\n",
       " <Engine engine id=text-search-ada-doc-001 at 0x15fa2db70> JSON: {\n",
       "   \"created\": null,\n",
       "   \"id\": \"text-search-ada-doc-001\",\n",
       "   \"object\": \"engine\",\n",
       "   \"owner\": \"openai-dev\",\n",
       "   \"permissions\": null,\n",
       "   \"ready\": true\n",
       " },\n",
       " <Engine engine id=code-search-ada-code-001 at 0x15fa2ddf0> JSON: {\n",
       "   \"created\": null,\n",
       "   \"id\": \"code-search-ada-code-001\",\n",
       "   \"object\": \"engine\",\n",
       "   \"owner\": \"openai-dev\",\n",
       "   \"permissions\": null,\n",
       "   \"ready\": true\n",
       " },\n",
       " <Engine engine id=ada-search-query at 0x15fa2de90> JSON: {\n",
       "   \"created\": null,\n",
       "   \"id\": \"ada-search-query\",\n",
       "   \"object\": \"engine\",\n",
       "   \"owner\": \"openai-dev\",\n",
       "   \"permissions\": null,\n",
       "   \"ready\": true\n",
       " },\n",
       " <Engine engine id=text-search-davinci-query-001 at 0x15fa2df30> JSON: {\n",
       "   \"created\": null,\n",
       "   \"id\": \"text-search-davinci-query-001\",\n",
       "   \"object\": \"engine\",\n",
       "   \"owner\": \"openai-dev\",\n",
       "   \"permissions\": null,\n",
       "   \"ready\": true\n",
       " },\n",
       " <Engine engine id=davinci-search-query at 0x15fa2dfd0> JSON: {\n",
       "   \"created\": null,\n",
       "   \"id\": \"davinci-search-query\",\n",
       "   \"object\": \"engine\",\n",
       "   \"owner\": \"openai-dev\",\n",
       "   \"permissions\": null,\n",
       "   \"ready\": true\n",
       " },\n",
       " <Engine engine id=babbage-search-document at 0x15fa2e110> JSON: {\n",
       "   \"created\": null,\n",
       "   \"id\": \"babbage-search-document\",\n",
       "   \"object\": \"engine\",\n",
       "   \"owner\": \"openai-dev\",\n",
       "   \"permissions\": null,\n",
       "   \"ready\": true\n",
       " },\n",
       " <Engine engine id=ada-search-document at 0x15fa2e1b0> JSON: {\n",
       "   \"created\": null,\n",
       "   \"id\": \"ada-search-document\",\n",
       "   \"object\": \"engine\",\n",
       "   \"owner\": \"openai-dev\",\n",
       "   \"permissions\": null,\n",
       "   \"ready\": true\n",
       " },\n",
       " <Engine engine id=text-search-babbage-doc-001 at 0x15fa2e250> JSON: {\n",
       "   \"created\": null,\n",
       "   \"id\": \"text-search-babbage-doc-001\",\n",
       "   \"object\": \"engine\",\n",
       "   \"owner\": \"openai-dev\",\n",
       "   \"permissions\": null,\n",
       "   \"ready\": true\n",
       " },\n",
       " <Engine engine id=text-search-curie-doc-001 at 0x15fa2e2f0> JSON: {\n",
       "   \"created\": null,\n",
       "   \"id\": \"text-search-curie-doc-001\",\n",
       "   \"object\": \"engine\",\n",
       "   \"owner\": \"openai-dev\",\n",
       "   \"permissions\": null,\n",
       "   \"ready\": true\n",
       " },\n",
       " <Engine engine id=text-search-curie-query-001 at 0x15fa2e390> JSON: {\n",
       "   \"created\": null,\n",
       "   \"id\": \"text-search-curie-query-001\",\n",
       "   \"object\": \"engine\",\n",
       "   \"owner\": \"openai-dev\",\n",
       "   \"permissions\": null,\n",
       "   \"ready\": true\n",
       " },\n",
       " <Engine engine id=babbage-search-query at 0x15fa2e430> JSON: {\n",
       "   \"created\": null,\n",
       "   \"id\": \"babbage-search-query\",\n",
       "   \"object\": \"engine\",\n",
       "   \"owner\": \"openai-dev\",\n",
       "   \"permissions\": null,\n",
       "   \"ready\": true\n",
       " },\n",
       " <Engine engine id=text-search-davinci-doc-001 at 0x15fa2e570> JSON: {\n",
       "   \"created\": null,\n",
       "   \"id\": \"text-search-davinci-doc-001\",\n",
       "   \"object\": \"engine\",\n",
       "   \"owner\": \"openai-dev\",\n",
       "   \"permissions\": null,\n",
       "   \"ready\": true\n",
       " },\n",
       " <Engine engine id=text-search-babbage-query-001 at 0x15fa2e610> JSON: {\n",
       "   \"created\": null,\n",
       "   \"id\": \"text-search-babbage-query-001\",\n",
       "   \"object\": \"engine\",\n",
       "   \"owner\": \"openai-dev\",\n",
       "   \"permissions\": null,\n",
       "   \"ready\": true\n",
       " },\n",
       " <Engine engine id=curie-search-document at 0x15fa2e750> JSON: {\n",
       "   \"created\": null,\n",
       "   \"id\": \"curie-search-document\",\n",
       "   \"object\": \"engine\",\n",
       "   \"owner\": \"openai-dev\",\n",
       "   \"permissions\": null,\n",
       "   \"ready\": true\n",
       " }]"
      ]
     },
     "execution_count": 27,
     "metadata": {},
     "output_type": "execute_result"
    }
   ],
   "source": [
    "# define the engine we will use for embeddings\n",
    "ENGINE = 'text-embedding-ada-002'\n",
    "\n",
    "# list embedding engines\n",
    "[e for e in openai.Engine.list().data if 'embed' in e.id or 'search' in e.id]"
   ]
  },
  {
   "cell_type": "code",
   "execution_count": 44,
   "id": "3c35e826",
   "metadata": {},
   "outputs": [
    {
     "name": "stdout",
     "output_type": "stream",
     "text": [
      "There are 79 documents/paragraphs\n"
     ]
    }
   ],
   "source": [
    "# Our good old textbook about insects\n",
    "text = urlopen('https://www.gutenberg.org/cache/epub/10834/pg10834.txt').read().decode()\n",
    "\n",
    "# Only keep documents of at least 100 characters, same as before\n",
    "documents = list(filter(lambda x: len(x) > 100, text.split('\\r\\n\\r\\n')))\n",
    "\n",
    "print(f'There are {len(documents)} documents/paragraphs')"
   ]
  },
  {
   "cell_type": "code",
   "execution_count": 29,
   "id": "5f34fdf6",
   "metadata": {},
   "outputs": [],
   "source": [
    "# Embed each document using GPT3-like embeddings\n",
    "\n",
    "embeddings = [get_embedding(document, engine=ENGINE) for document in documents]\n",
    "\n",
    "# Turn into a numpy matrix\n",
    "embeddings = np.array(embeddings)"
   ]
  },
  {
   "cell_type": "code",
   "execution_count": 40,
   "id": "935a28e4",
   "metadata": {},
   "outputs": [],
   "source": []
  },
  {
   "cell_type": "code",
   "execution_count": 41,
   "id": "c326ae6d",
   "metadata": {},
   "outputs": [],
   "source": [
    "QUESTION = 'How many horns does a flea have?'  # a natural language query"
   ]
  },
  {
   "cell_type": "code",
   "execution_count": null,
   "id": "37221d5f",
   "metadata": {},
   "outputs": [],
   "source": [
    "# Encode the query using OpenAI and find relevant documents\n",
    "question_embedding = np.array(get_embedding(QUESTION, engine=ENGINE))\n"
   ]
  },
  {
   "cell_type": "code",
   "execution_count": 47,
   "id": "67b1464b",
   "metadata": {},
   "outputs": [
    {
     "data": {
      "text/plain": [
       "[{'corpus_id': 14, 'score': 0.8606411078952201}]"
      ]
     },
     "execution_count": 47,
     "metadata": {},
     "output_type": "execute_result"
    }
   ],
   "source": [
    "# Sentence Transformers semantic search is ready to go. We could rewrite it otherwise\n",
    "hits = util.semantic_search(question_embedding, embeddings, top_k=1)[0]\n",
    "\n",
    "hits"
   ]
  },
  {
   "cell_type": "code",
   "execution_count": 50,
   "id": "ab29bdab",
   "metadata": {},
   "outputs": [
    {
     "name": "stdout",
     "output_type": "stream",
     "text": [
      "Question: How many horns does a flea have?\n",
      "\n",
      "Document 1 Cos_Sim 0.861:\n",
      "\n",
      "When examined by a microscope, the flea is a pleasant object. The body\r\n",
      "is curiously adorned with a suit of polished armour, neatly jointed, and\r\n",
      "beset with a great number of sharp pins almost like the quills of a\r\n",
      "porcupine: it has a small head, large eyes, two horns, or feelers, which\r\n",
      "proceed from the head, and four long legs from the breast; they are very\r\n",
      "hairy and long, and have several joints, which fold as it were one\r\n",
      "within another.\n",
      "\n",
      "\n"
     ]
    }
   ],
   "source": [
    "print(f'Question: {QUESTION}\\n')\n",
    "\n",
    "for i, hit in enumerate(hits):\n",
    "    \n",
    "    print(f'Document {i + 1} Cos_Sim {hit[\"score\"]:.3f}:\\n\\n{documents[hit[\"corpus_id\"]]}')\n",
    "    print('\\n')"
   ]
  },
  {
   "cell_type": "code",
   "execution_count": 52,
   "id": "0e753695",
   "metadata": {},
   "outputs": [],
   "source": [
    "context = documents[hit[\"corpus_id\"]]"
   ]
  },
  {
   "cell_type": "code",
   "execution_count": 53,
   "id": "0908e998",
   "metadata": {},
   "outputs": [],
   "source": [
    "PROMPT = f\"Given this context, answer the question.\\n\\nContext: {context}\\nQuery: {QUESTION}\\nAnswer:\"\n"
   ]
  },
  {
   "cell_type": "code",
   "execution_count": 54,
   "id": "e064a24e",
   "metadata": {},
   "outputs": [],
   "source": [
    "def test_prompt(prompt, suppress=False, **kwargs):\n",
    "\n",
    "    response = openai.Completion.create(\n",
    "      model='text-davinci-003',\n",
    "      prompt=prompt,\n",
    "      max_tokens=256,\n",
    "      **kwargs\n",
    "    )\n",
    "    if not suppress:\n",
    "        print(f'PROMPT:\\n------\\n{prompt}\\n------\\nRESPONSE\\n------\\n{prompt}{response.choices[0].text}')\n"
   ]
  },
  {
   "cell_type": "code",
   "execution_count": 55,
   "id": "5fa4c952",
   "metadata": {},
   "outputs": [
    {
     "name": "stdout",
     "output_type": "stream",
     "text": [
      "PROMPT:\n",
      "------\n",
      "Given this context, answer the question.\n",
      "\n",
      "Context: When examined by a microscope, the flea is a pleasant object. The body\r\n",
      "is curiously adorned with a suit of polished armour, neatly jointed, and\r\n",
      "beset with a great number of sharp pins almost like the quills of a\r\n",
      "porcupine: it has a small head, large eyes, two horns, or feelers, which\r\n",
      "proceed from the head, and four long legs from the breast; they are very\r\n",
      "hairy and long, and have several joints, which fold as it were one\r\n",
      "within another.\n",
      "Query: How many horns does a flea have?\n",
      "Answer:\n",
      "------\n",
      "RESPONSE\n",
      "------\n",
      "Given this context, answer the question.\n",
      "\n",
      "Context: When examined by a microscope, the flea is a pleasant object. The body\r\n",
      "is curiously adorned with a suit of polished armour, neatly jointed, and\r\n",
      "beset with a great number of sharp pins almost like the quills of a\r\n",
      "porcupine: it has a small head, large eyes, two horns, or feelers, which\r\n",
      "proceed from the head, and four long legs from the breast; they are very\r\n",
      "hairy and long, and have several joints, which fold as it were one\r\n",
      "within another.\n",
      "Query: How many horns does a flea have?\n",
      "Answer: A flea has two horns.\n"
     ]
    }
   ],
   "source": [
    "test_prompt(PROMPT)"
   ]
  },
  {
   "cell_type": "code",
   "execution_count": 59,
   "id": "d94f6a74",
   "metadata": {},
   "outputs": [
    {
     "name": "stdout",
     "output_type": "stream",
     "text": [
      "PROMPT:\n",
      "------\n",
      "Given this context, answer the question for a second grader. Be fun!\n",
      "\n",
      "Context: When examined by a microscope, the flea is a pleasant object. The body\r\n",
      "is curiously adorned with a suit of polished armour, neatly jointed, and\r\n",
      "beset with a great number of sharp pins almost like the quills of a\r\n",
      "porcupine: it has a small head, large eyes, two horns, or feelers, which\r\n",
      "proceed from the head, and four long legs from the breast; they are very\r\n",
      "hairy and long, and have several joints, which fold as it were one\r\n",
      "within another.\n",
      "Query: How many horns does a flea have?\n",
      "Answer:\n",
      "------\n",
      "RESPONSE\n",
      "------\n",
      "Given this context, answer the question for a second grader. Be fun!\n",
      "\n",
      "Context: When examined by a microscope, the flea is a pleasant object. The body\r\n",
      "is curiously adorned with a suit of polished armour, neatly jointed, and\r\n",
      "beset with a great number of sharp pins almost like the quills of a\r\n",
      "porcupine: it has a small head, large eyes, two horns, or feelers, which\r\n",
      "proceed from the head, and four long legs from the breast; they are very\r\n",
      "hairy and long, and have several joints, which fold as it were one\r\n",
      "within another.\n",
      "Query: How many horns does a flea have?\n",
      "Answer: A flea has two horns, or feelers, that come out from its head. It's almost like a tiny porcupine!\n"
     ]
    }
   ],
   "source": [
    "# let's have some more fun\n",
    "test_prompt(f\"Given this context, answer the question for a second grader. Be fun!\\n\\nContext: {context}\\nQuery: {QUESTION}\\nAnswer:\")\n"
   ]
  },
  {
   "cell_type": "code",
   "execution_count": null,
   "id": "ad627e0e",
   "metadata": {},
   "outputs": [],
   "source": []
  },
  {
   "cell_type": "code",
   "execution_count": null,
   "id": "8107b72f",
   "metadata": {},
   "outputs": [],
   "source": []
  }
 ],
 "metadata": {
  "kernelspec": {
   "display_name": "Python 3 (ipykernel)",
   "language": "python",
   "name": "python3"
  },
  "language_info": {
   "codemirror_mode": {
    "name": "ipython",
    "version": 3
   },
   "file_extension": ".py",
   "mimetype": "text/x-python",
   "name": "python",
   "nbconvert_exporter": "python",
   "pygments_lexer": "ipython3",
   "version": "3.10.7"
  }
 },
 "nbformat": 4,
 "nbformat_minor": 5
}
